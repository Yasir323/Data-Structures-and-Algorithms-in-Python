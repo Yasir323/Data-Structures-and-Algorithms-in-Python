{
  "nbformat": 4,
  "nbformat_minor": 0,
  "metadata": {
    "colab": {
      "name": "Stack.ipynb",
      "provenance": [],
      "collapsed_sections": []
    },
    "kernelspec": {
      "name": "python3",
      "display_name": "Python 3"
    },
    "language_info": {
      "name": "python"
    }
  },
  "cells": [
    {
      "cell_type": "markdown",
      "metadata": {
        "id": "Fdu2PvoFtI6Q"
      },
      "source": [
        "A **stack** (sometimes called a “**push-down stack**”) is an ordered collection of items where the addition of new items and the removal of existing items always takes place at the same end. This end is commonly referred to as the “top”. The end opposite the top is known as the “base”.\n",
        "\n",
        "The base of the stack is significant since items stored in the stack that are closer to the base represent those that have been in the stack the longest. The most recently added item is the one that is in position to be removed first. This ordering principle is sometimes called **LIFO, last-in first-out**. It provides an ordering based on length of time in the collection. Newer items are near the top, while older items are near the base."
      ]
    },
    {
      "cell_type": "markdown",
      "metadata": {
        "id": "JPGQB1RBtqXw"
      },
      "source": [
        "<img src=\"https://runestone.academy/runestone/books/published/pythonds/_images/bookstack2.png\">\n",
        "\n",
        "Figure 1: A Stack of Books"
      ]
    },
    {
      "cell_type": "markdown",
      "metadata": {
        "id": "WXQwv5oAuNKC"
      },
      "source": [
        "<img src=\"https://runestone.academy/runestone/books/published/pythonds/_images/primitive.png\">\n",
        "\n",
        "Figure 2: A Stack of Primitive Python Objects"
      ]
    },
    {
      "cell_type": "markdown",
      "metadata": {
        "id": "DRcF5dPeuSS9"
      },
      "source": [
        "<img src=\"https://runestone.academy/runestone/books/published/pythonds/_images/simplereversal.png\">\n",
        "\n",
        "Figure 3: The Reversal Property of Stacks"
      ]
    },
    {
      "cell_type": "markdown",
      "metadata": {
        "id": "oFRd7LfEu1Dh"
      },
      "source": [
        "Considering this reversal property, you can perhaps think of examples of stacks that occur as you use your computer. For example, every web browser has a Back button. As you navigate from web page to web page, those pages are placed on a stack (actually it is the URLs that are going on the stack). The current page that you are viewing is on the top and the first page you looked at is at the base. If you click on the Back button, you begin to move in reverse order through the pages."
      ]
    },
    {
      "cell_type": "markdown",
      "metadata": {
        "id": "ByDZ19G1vG6u"
      },
      "source": [
        "The stack operations are given below.\n",
        "\n",
        "1. `Stack()` creates a new stack that is empty. It needs no parameters and returns an empty stack.\n",
        "\n",
        "2. `push(item)` adds a new item to the top of the stack. It needs the item and returns nothing.\n",
        "\n",
        "3. `pop()` removes the top item from the stack. It needs no parameters and returns the item. The stack is modified.\n",
        "\n",
        "4. `peek()` returns the top item from the stack but does not remove it. It needs no parameters. The stack is not modified.\n",
        "\n",
        "5. `is_empty()` tests to see whether the stack is empty. It needs no parameters and returns a boolean value.\n",
        "\n",
        "6. `size()` returns the number of items on the stack. It needs no parameters and returns an integer.\n"
      ]
    },
    {
      "cell_type": "code",
      "metadata": {
        "id": "YSU4kKIZv6R3"
      },
      "source": [
        "class Stack:\n",
        "  def __init__(self, items=[]):\n",
        "    self.items = items\n",
        "\n",
        "  def is_empty(self):\n",
        "    return self.items == []\n",
        "\n",
        "  def push(self, item):\n",
        "    self.items.append(item)\n",
        "\n",
        "  def pop(self):\n",
        "    return self.items.pop()\n",
        "\n",
        "  def peek(self):\n",
        "    return self.items[len(self.items) - 1]\n",
        "\n",
        "  def __len__(self):\n",
        "    return len(self.items)"
      ],
      "execution_count": 1,
      "outputs": []
    },
    {
      "cell_type": "code",
      "metadata": {
        "id": "uqK712nHEthd"
      },
      "source": [
        "s1 = Stack()"
      ],
      "execution_count": 2,
      "outputs": []
    },
    {
      "cell_type": "code",
      "metadata": {
        "colab": {
          "base_uri": "https://localhost:8080/"
        },
        "id": "kvQ-mHH1FDx9",
        "outputId": "0864e6da-ec5c-4312-cf68-32a680ea129e"
      },
      "source": [
        "s1.is_empty()"
      ],
      "execution_count": 3,
      "outputs": [
        {
          "output_type": "execute_result",
          "data": {
            "text/plain": [
              "True"
            ]
          },
          "metadata": {
            "tags": []
          },
          "execution_count": 3
        }
      ]
    },
    {
      "cell_type": "code",
      "metadata": {
        "id": "87pyGUc1FGXW"
      },
      "source": [
        "s1.push(4)"
      ],
      "execution_count": 4,
      "outputs": []
    },
    {
      "cell_type": "code",
      "metadata": {
        "colab": {
          "base_uri": "https://localhost:8080/"
        },
        "id": "3N4zSFSnFLYU",
        "outputId": "0ad8173f-c455-47ff-aea6-cb689899c950"
      },
      "source": [
        "s1.is_empty()"
      ],
      "execution_count": 5,
      "outputs": [
        {
          "output_type": "execute_result",
          "data": {
            "text/plain": [
              "False"
            ]
          },
          "metadata": {
            "tags": []
          },
          "execution_count": 5
        }
      ]
    },
    {
      "cell_type": "code",
      "metadata": {
        "colab": {
          "base_uri": "https://localhost:8080/"
        },
        "id": "NXIlQ7_lFNf-",
        "outputId": "3549df0f-487b-41f3-f392-b8b47b447d54"
      },
      "source": [
        "s1.push('dog')\n",
        "len(s1)"
      ],
      "execution_count": 6,
      "outputs": [
        {
          "output_type": "execute_result",
          "data": {
            "text/plain": [
              "2"
            ]
          },
          "metadata": {
            "tags": []
          },
          "execution_count": 6
        }
      ]
    },
    {
      "cell_type": "code",
      "metadata": {
        "colab": {
          "base_uri": "https://localhost:8080/",
          "height": 36
        },
        "id": "vS2PmYjLFTaO",
        "outputId": "c14babed-c04c-4579-daa2-e3417b667c3a"
      },
      "source": [
        "s1.pop()"
      ],
      "execution_count": 7,
      "outputs": [
        {
          "output_type": "execute_result",
          "data": {
            "application/vnd.google.colaboratory.intrinsic+json": {
              "type": "string"
            },
            "text/plain": [
              "'dog'"
            ]
          },
          "metadata": {
            "tags": []
          },
          "execution_count": 7
        }
      ]
    },
    {
      "cell_type": "code",
      "metadata": {
        "colab": {
          "base_uri": "https://localhost:8080/"
        },
        "id": "mPoxjqoIFbMr",
        "outputId": "93024908-2fa5-458c-e921-3ca27e47a997"
      },
      "source": [
        "len(s1)"
      ],
      "execution_count": 8,
      "outputs": [
        {
          "output_type": "execute_result",
          "data": {
            "text/plain": [
              "1"
            ]
          },
          "metadata": {
            "tags": []
          },
          "execution_count": 8
        }
      ]
    },
    {
      "cell_type": "code",
      "metadata": {
        "colab": {
          "base_uri": "https://localhost:8080/"
        },
        "id": "pETaAxISFd-r",
        "outputId": "4ea627b7-36e6-4c09-f7ec-c54ac69e2842"
      },
      "source": [
        "s1.peek()"
      ],
      "execution_count": 9,
      "outputs": [
        {
          "output_type": "execute_result",
          "data": {
            "text/plain": [
              "4"
            ]
          },
          "metadata": {
            "tags": []
          },
          "execution_count": 9
        }
      ]
    },
    {
      "cell_type": "code",
      "metadata": {
        "colab": {
          "base_uri": "https://localhost:8080/"
        },
        "id": "97po2kOpFkkl",
        "outputId": "65e24306-184c-4b73-ce10-8ff37f48f2b2"
      },
      "source": [
        "s1"
      ],
      "execution_count": 10,
      "outputs": [
        {
          "output_type": "execute_result",
          "data": {
            "text/plain": [
              "<__main__.Stack at 0x7ffb9c267e50>"
            ]
          },
          "metadata": {
            "tags": []
          },
          "execution_count": 10
        }
      ]
    },
    {
      "cell_type": "code",
      "metadata": {
        "id": "uSF44jAqFrdF"
      },
      "source": [
        "s2 = Stack([1, 2, 3])"
      ],
      "execution_count": 11,
      "outputs": []
    },
    {
      "cell_type": "code",
      "metadata": {
        "colab": {
          "base_uri": "https://localhost:8080/"
        },
        "id": "cZrll5y3KObX",
        "outputId": "7a0390fa-87c5-43f5-dab0-0c966f028d1e"
      },
      "source": [
        "s2.peek()"
      ],
      "execution_count": 12,
      "outputs": [
        {
          "output_type": "execute_result",
          "data": {
            "text/plain": [
              "3"
            ]
          },
          "metadata": {
            "tags": []
          },
          "execution_count": 12
        }
      ]
    },
    {
      "cell_type": "code",
      "metadata": {
        "colab": {
          "base_uri": "https://localhost:8080/"
        },
        "id": "D8IBGYDzKQod",
        "outputId": "062fdc48-637e-4e51-a66d-a9c3e090ee92"
      },
      "source": [
        "len(s2)"
      ],
      "execution_count": 13,
      "outputs": [
        {
          "output_type": "execute_result",
          "data": {
            "text/plain": [
              "3"
            ]
          },
          "metadata": {
            "tags": []
          },
          "execution_count": 13
        }
      ]
    },
    {
      "cell_type": "code",
      "metadata": {
        "colab": {
          "base_uri": "https://localhost:8080/"
        },
        "id": "SMVWGItjKS05",
        "outputId": "609f67e9-7759-49d2-8333-2518e76f5727"
      },
      "source": [
        "s2.pop()"
      ],
      "execution_count": 14,
      "outputs": [
        {
          "output_type": "execute_result",
          "data": {
            "text/plain": [
              "3"
            ]
          },
          "metadata": {
            "tags": []
          },
          "execution_count": 14
        }
      ]
    },
    {
      "cell_type": "code",
      "metadata": {
        "colab": {
          "base_uri": "https://localhost:8080/"
        },
        "id": "VD270AB2KUZn",
        "outputId": "acada9fb-1815-49b2-816b-3582e962caa5"
      },
      "source": [
        "s2.peek()"
      ],
      "execution_count": 15,
      "outputs": [
        {
          "output_type": "execute_result",
          "data": {
            "text/plain": [
              "2"
            ]
          },
          "metadata": {
            "tags": []
          },
          "execution_count": 15
        }
      ]
    },
    {
      "cell_type": "code",
      "metadata": {
        "colab": {
          "base_uri": "https://localhost:8080/"
        },
        "id": "01fkJUFJKWWj",
        "outputId": "ff0f7c8e-4607-4be3-e584-4c316ef824a2"
      },
      "source": [
        "len(s2)"
      ],
      "execution_count": 16,
      "outputs": [
        {
          "output_type": "execute_result",
          "data": {
            "text/plain": [
              "2"
            ]
          },
          "metadata": {
            "tags": []
          },
          "execution_count": 16
        }
      ]
    }
  ]
}