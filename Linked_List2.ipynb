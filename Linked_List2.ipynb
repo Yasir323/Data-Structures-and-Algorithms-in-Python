{
  "nbformat": 4,
  "nbformat_minor": 0,
  "metadata": {
    "colab": {
      "name": "Linked List.ipynb",
      "provenance": [],
      "collapsed_sections": []
    },
    "kernelspec": {
      "name": "python3",
      "display_name": "Python 3"
    },
    "language_info": {
      "name": "python"
    }
  },
  "cells": [
    {
      "cell_type": "markdown",
      "metadata": {
        "id": "eYAMkgwVov2-"
      },
      "source": [
        "# Unordered List"
      ]
    },
    {
      "cell_type": "markdown",
      "metadata": {
        "id": "9N78gifw4Deh"
      },
      "source": [
        " Some possible unordered list operations are given below.\n",
        "\n",
        "1.    `List()` creates a new list that is empty. It needs no parameters and returns an empty list.\n",
        "\n",
        "2.    `add(item)` adds a new item to the list. It needs the item and returns nothing. Assume the item is not already in the list.\n",
        "\n",
        "3.    `remove(item)` removes the item from the list. It needs the item and modifies the list. Assume the item is present in the list.\n",
        "\n",
        "4.    `search(item)` searches for the item in the list. It needs the item and returns a boolean value.\n",
        "\n",
        "5.    `isEmpty()` tests to see whether the list is empty. It needs no parameters and returns a boolean value.\n",
        "\n",
        "6.    `size()` returns the number of items in the list. It needs no parameters and returns an integer.\n",
        "\n",
        "7.    `append(item)` adds a new item to the end of the list making it the last item in the collection. It needs the item and returns nothing. Assume the item is not already in the list.\n",
        "\n",
        "8.    `index(item)` returns the position of item in the list. It needs the item and returns the index. Assume the item is in the list.\n",
        "\n",
        "9.    `insert(pos,item)` adds a new item to the list at position pos. It needs the item and returns nothing. Assume the item is not already in the list and there are enough existing items to have position pos.\n",
        "\n",
        "10.    `pop()` removes and returns the last item in the list. It needs nothing and returns an item. Assume the list has at least one item.\n",
        "\n",
        "11.    `pop(pos)` removes and returns the item at position pos. It needs the position and returns the item. Assume the item is in the list."
      ]
    },
    {
      "cell_type": "markdown",
      "metadata": {
        "id": "YUh6q9omfReJ"
      },
      "source": [
        "## Node"
      ]
    },
    {
      "cell_type": "code",
      "metadata": {
        "id": "buE73D1n4hO2"
      },
      "source": [
        "class Node:\n",
        "  def __init__(self, data):\n",
        "    self.data = data\n",
        "    self.next = None\n",
        "\n",
        "  def get_data(self):\n",
        "    return self.data\n",
        "\n",
        "  def get_next(self):\n",
        "    return self.next\n",
        "\n",
        "  def set_data(self, new_data):\n",
        "    self.data = new_data\n",
        "\n",
        "  def set_next(self, new_next):\n",
        "    self.next = new_next"
      ],
      "execution_count": 1,
      "outputs": []
    },
    {
      "cell_type": "markdown",
      "metadata": {
        "id": "wEkG8e9Mar-b"
      },
      "source": [
        "<img src=\"https://runestone.academy/runestone/books/published/pythonds/_images/node.png\">\n",
        "\n",
        "Figure 3: A Node Object Contains the Item and a Reference to the Next Node"
      ]
    },
    {
      "cell_type": "markdown",
      "metadata": {
        "id": "Zw9zuN3GfUJS"
      },
      "source": [
        "## Linked List"
      ]
    },
    {
      "cell_type": "code",
      "metadata": {
        "id": "edyzNglTa92y"
      },
      "source": [
        "class UnorderedList:\n",
        "\n",
        "  def __init__(self):\n",
        "    self.head = None\n",
        "\n",
        "  def is_empty(self):\n",
        "    return self.head == None\n",
        "\n",
        "  def add(self, data):\n",
        "    temp = Node(data)\n",
        "    temp.set_next(self.head)\n",
        "    self.head = temp\n",
        "\n",
        "  def size(self):\n",
        "    current = self.head\n",
        "    count = 0\n",
        "    while current is not None:\n",
        "      count += 1\n",
        "      current = current.get_next()\n",
        "    return count\n",
        "\n",
        "  def search(self, item):\n",
        "    current = self.head\n",
        "    found = False\n",
        "    while current is not None and not found:\n",
        "      if current.get_data() == item:\n",
        "        found = True\n",
        "      else:\n",
        "        current = current.get_next()\n",
        "\n",
        "    return found\n",
        "\n",
        "  def remove(self, item):\n",
        "    current = self.head\n",
        "    previous = None\n",
        "    found = False\n",
        "    while not found:\n",
        "      if current.get_data() == item:\n",
        "        found = True\n",
        "      else:\n",
        "        previous = current\n",
        "        current = current.get_next()\n",
        "\n",
        "      if previous == None:\n",
        "        self.head = current.get_next()\n",
        "      else:\n",
        "        previous.set_next(current.get_next())"
      ],
      "execution_count": 20,
      "outputs": []
    },
    {
      "cell_type": "code",
      "metadata": {
        "id": "xZO_y_iybLO7"
      },
      "source": [
        "my_list = UnorderedList()"
      ],
      "execution_count": 21,
      "outputs": []
    },
    {
      "cell_type": "markdown",
      "metadata": {
        "id": "EbWMs4Lnbeh8"
      },
      "source": [
        "<img src=\"https://runestone.academy/runestone/books/published/pythonds/_images/initlinkedlist.png\">\n",
        "\n",
        "Figure 5: An Empty List"
      ]
    },
    {
      "cell_type": "markdown",
      "metadata": {
        "id": "axmRvp1wfYc1"
      },
      "source": [
        "## Adding elemets to a Linked List"
      ]
    },
    {
      "cell_type": "markdown",
      "metadata": {
        "id": "dgtQzMGmbkxn"
      },
      "source": [
        "So, how do we get items into our list? We need to implement the add method. However, before we can do that, we need to address the important question of where in the linked list to place the new item. Since this list is unordered, the specific location of the new item with respect to the other items already in the list is not important. The new item can go anywhere. With that in mind, it makes sense to place the new item in the easiest location possible.\n",
        "\n",
        "Recall that the linked list structure provides us with only one entry point, the head of the list. All of the other nodes can only be reached by accessing the first node and then following next links. This means that the easiest place to add the new node is right at the head, or beginning, of the list. In other words, we will make the new item the first item of the list and the existing items will need to be linked to this new first item so that they follow."
      ]
    },
    {
      "cell_type": "markdown",
      "metadata": {
        "id": "TT_RrJS7diLR"
      },
      "source": [
        "<img src=\"https://runestone.academy/runestone/books/published/pythonds/_images/addtohead.png\">\n",
        "\n",
        "https://runestone.academy/runestone/books/published/pythonds/_images/addtohead.png"
      ]
    },
    {
      "cell_type": "code",
      "metadata": {
        "id": "6ANE5sqSd1Xl"
      },
      "source": [
        "my_list.add(31)\n",
        "my_list.add(77)\n",
        "my_list.add(17)\n",
        "my_list.add(93)\n",
        "my_list.add(26)\n",
        "my_list.add(54)"
      ],
      "execution_count": 22,
      "outputs": []
    },
    {
      "cell_type": "markdown",
      "metadata": {
        "id": "q-tR_1WVfcy7"
      },
      "source": [
        "## SIze of the List"
      ]
    },
    {
      "cell_type": "markdown",
      "metadata": {
        "id": "YbwXwcS7eH31"
      },
      "source": [
        "The next methods that we will implement–size, search, and remove–are all based on a technique known as linked list traversal. Traversal refers to the process of systematically visiting each node. To do this we use an external reference that starts at the first node in the list. As we visit each node, we move the reference to the next node by “traversing” the next reference.\n",
        "\n",
        "To implement the size method, we need to traverse the linked list and keep a count of the number of nodes that occurred."
      ]
    },
    {
      "cell_type": "markdown",
      "metadata": {
        "id": "YJglgy1Xeeb9"
      },
      "source": [
        "<img src=\"https://runestone.academy/runestone/books/published/pythonds/_images/traversal.png\">\n",
        "\n",
        "Figure 9: Traversing the Linked List from the Head to the End"
      ]
    },
    {
      "cell_type": "code",
      "metadata": {
        "colab": {
          "base_uri": "https://localhost:8080/"
        },
        "id": "crjrDq-rgEXG",
        "outputId": "276bf4bc-bf4b-438a-deb4-0d5925fce734"
      },
      "source": [
        "my_list.size()"
      ],
      "execution_count": 23,
      "outputs": [
        {
          "output_type": "execute_result",
          "data": {
            "text/plain": [
              "6"
            ]
          },
          "metadata": {
            "tags": []
          },
          "execution_count": 23
        }
      ]
    },
    {
      "cell_type": "markdown",
      "metadata": {
        "id": "_Oo-XmFRfgG1"
      },
      "source": [
        "## Searching a Linked List\n",
        "\n",
        "Searching for a value in a linked list implementation of an unordered list also uses the traversal technique. As we visit each node in the linked list we will ask whether the data stored there matches the item we are looking for. In this case, however, we may not have to traverse all the way to the end of the list. In fact, if we do get to the end of the list, that means that the item we are looking for must not be present. Also, if we do find the item, there is no need to continue."
      ]
    },
    {
      "cell_type": "code",
      "metadata": {
        "colab": {
          "base_uri": "https://localhost:8080/"
        },
        "id": "LrmkBzdwe_LG",
        "outputId": "2ff11537-8884-4586-a72a-27aebf7c39a1"
      },
      "source": [
        "my_list.search(17)"
      ],
      "execution_count": 24,
      "outputs": [
        {
          "output_type": "execute_result",
          "data": {
            "text/plain": [
              "True"
            ]
          },
          "metadata": {
            "tags": []
          },
          "execution_count": 24
        }
      ]
    },
    {
      "cell_type": "markdown",
      "metadata": {
        "id": "Sfod4coEgO80"
      },
      "source": [
        "<img src=\"https://runestone.academy/runestone/books/published/pythonds/_images/search.png\">\n",
        "\n",
        "Figure 10: Successful Search for the Value 17"
      ]
    },
    {
      "cell_type": "markdown",
      "metadata": {
        "id": "tr-sONUPgK1R"
      },
      "source": [
        "The remove method requires two logical steps. First, we need to traverse the list looking for the item we want to remove. Once we find the item (recall that we assume it is present), we must remove it. The first step is very similar to search. Starting with an external reference set to the head of the list, we traverse the links until we discover the item we are looking for. Since we assume that item is present, we know that the iteration will stop before current gets to None. This means that we can simply use the boolean found in the condition.\n",
        "\n",
        "When found becomes True, current will be a reference to the node containing the item to be removed. But how do we remove it? One possibility would be to replace the value of the item with some marker that suggests that the item is no longer present. The problem with this approach is the number of nodes will no longer match the number of items. It would be much better to remove the item by removing the entire node.\n",
        "\n",
        "In order to remove the node containing the item, we need to modify the link in the previous node so that it refers to the node that comes after current. Unfortunately, there is no way to go backward in the linked list. Since current refers to the node ahead of the node where we would like to make the change, it is too late to make the necessary modification.\n",
        "\n",
        "The solution to this dilemma is to use two external references as we traverse down the linked list. current will behave just as it did before, marking the current location of the traverse. The new reference, which we will call previous, will always travel one node behind current. That way, when current stops at the node to be removed, previous will be referring to the proper place in the linked list for the modification."
      ]
    },
    {
      "cell_type": "markdown",
      "metadata": {
        "id": "BF7iC3LyniiF"
      },
      "source": [
        "<img src=\"https://runestone.academy/runestone/books/published/pythonds/_images/removeinit.png\">\n",
        "\n",
        "Figure 11: Initial Values for the previous and current References"
      ]
    },
    {
      "cell_type": "markdown",
      "metadata": {
        "id": "pBc9weL3g4q1"
      },
      "source": [
        "<img src=\"https://runestone.academy/runestone/books/published/pythonds/_images/prevcurr.png\">\n",
        "\n",
        "Figure 12: previous and current Move Down the List"
      ]
    },
    {
      "cell_type": "markdown",
      "metadata": {
        "id": "_7UNlGkAnT5b"
      },
      "source": [
        "Once the searching step of the remove has been completed, we need to remove the node from the linked list. Figure 13 shows the link that must be modified. However, there is a special case that needs to be addressed. If the item to be removed happens to be the first item in the list, then current will reference the first node in the linked list. This also means that previous will be None. We said earlier that previous would be referring to the node whose next reference needs to be modified in order to complete the remove. In this case, it is not previous but rather the head of the list that needs to be changed (see Figure 14).\n",
        "<img src=\"https://runestone.academy/runestone/books/published/pythonds/_images/remove.png\">\n",
        "\n",
        "Figure 13: Removing an Item from the Middle of the List"
      ]
    },
    {
      "cell_type": "markdown",
      "metadata": {
        "id": "Nm2MAzUuoLQb"
      },
      "source": [
        "<img src=\"https://runestone.academy/runestone/books/published/pythonds/_images/remove2.png\">\n",
        "\n",
        "Figure 14: Removing the First Node from the List"
      ]
    },
    {
      "cell_type": "markdown",
      "metadata": {
        "id": "J9VHowuZoRcC"
      },
      "source": [
        "Line 12 allows us to check whether we are dealing with the special case described above. If previous did not move, it will still have the value None when the boolean found becomes True. In that case (line 13) the head of the list is modified to refer to the node after the current node, in effect removing the first node from the linked list. However, if previous is not None, the node to be removed is somewhere down the linked list structure. In this case the previous reference is providing us with the node whose next reference must be changed. Line 15 uses the setNext method from previous to accomplish the removal. Note that in both cases the destination of the reference change is current.getNext(). One question that often arises is whether the two cases shown here will also handle the situation where the item to be removed is in the last node of the linked list."
      ]
    },
    {
      "cell_type": "markdown",
      "metadata": {
        "id": "elk-b647o1OJ"
      },
      "source": [
        "# Ordered List"
      ]
    },
    {
      "cell_type": "markdown",
      "metadata": {
        "id": "aV72szf-olTn"
      },
      "source": [
        "The structure of an ordered list is a collection of items where each item holds a relative position that is based upon some underlying characteristic of the item. The ordering is typically either ascending or descending and we assume that list items have a meaningful comparison operation that is already defined. Many of the ordered list operations are the same as those of the unordered list.\n",
        "\n",
        "1.    `OrderedList()` creates a new ordered list that is empty. It needs no parameters and returns an empty list.\n",
        "\n",
        "2.    `add(item)` adds a new item to the list making sure that the order is preserved. It needs the item and returns nothing. Assume the item is not already in the list.\n",
        "\n",
        "3.    `remove(item)` removes the item from the list. It needs the item and modifies the list. Assume the item is present in the list.\n",
        "\n",
        "4.    `search(item)` searches for the item in the list. It needs the item and returns a boolean value.\n",
        "\n",
        "5.    `isEmpty()` tests to see whether the list is empty. It needs no parameters and returns a boolean value.\n",
        "\n",
        "6.    `size()` returns the number of items in the list. It needs no parameters and returns an integer.\n",
        "\n",
        "7.    `index(item)` returns the position of item in the list. It needs the item and returns the index. Assume the item is in the list.\n",
        "\n",
        "8.    `pop()` removes and returns the last item in the list. It needs nothing and returns an item. Assume the list has at least one item.\n",
        "\n",
        "9.    `pop(pos)` removes and returns the item at position pos. It needs the position and returns the item. Assume the item is in the list."
      ]
    },
    {
      "cell_type": "markdown",
      "metadata": {
        "id": "2EjF9CpXs21s"
      },
      "source": [
        "As we consider the operations for the ordered list, we should note that the isEmpty and size methods can be implemented the same as with unordered lists since they deal only with the number of nodes in the list without regard to the actual item values. Likewise, the remove method will work just fine since we still need to find the item and then link around the node to remove it. The two remaining methods, search and add, will require some modification."
      ]
    },
    {
      "cell_type": "markdown",
      "metadata": {
        "id": "A0IV4vKTtX69"
      },
      "source": [
        "## Search\n",
        "\n",
        "The search of an unordered linked list required that we traverse the nodes one at a time until we either find the item we are looking for or run out of nodes (None). It turns out that the same approach would actually work with the ordered list and in fact in the case where we find the item it is exactly what we need. However, in the case where the item is not in the list, we can take advantage of the ordering to stop the search as soon as possible.\n",
        "\n",
        "For example, Figure 16 shows the ordered linked list as a search is looking for the value 45. As we traverse, starting at the head of the list, we first compare against 17. Since 17 is not the item we are looking for, we move to the next node, in this case 26. Again, this is not what we want, so we move on to 31 and then on to 54. Now, at this point, something is different. Since 54 is not the item we are looking for, our former strategy would be to move forward. However, due to the fact that this is an ordered list, that will not be necessary. Once the value in the node becomes greater than the item we are searching for, the search can stop and return False."
      ]
    },
    {
      "cell_type": "markdown",
      "metadata": {
        "id": "nit8vI11tvSP"
      },
      "source": [
        "<img src=\"https://runestone.academy/runestone/books/published/pythonds/_images/orderedsearch.png\">\n",
        "\n",
        "Figure 16: Searching an Ordered Linked List"
      ]
    },
    {
      "cell_type": "markdown",
      "metadata": {
        "id": "oGovA57wtvet"
      },
      "source": [
        "## Adding element to an Ordered List\n",
        "\n",
        "Recall that for unordered lists, the add method could simply place a new node at the head of the list. It was the easiest point of access. Unfortunately, this will no longer work with ordered lists. It is now necessary that we discover the specific place where a new item belongs in the existing ordered list.\n",
        "\n",
        "<img src=\"https://runestone.academy/runestone/books/published/pythonds/_images/linkedlistinsert.png\">\n",
        "\n",
        "Figure 17: Adding an Item to an Ordered Linked List"
      ]
    },
    {
      "cell_type": "code",
      "metadata": {
        "id": "v-sdGo43pWmN"
      },
      "source": [
        "class OrderedList:\n",
        "  def __init__(self):\n",
        "    self.head = None\n",
        "\n",
        "  def is_empty(self):\n",
        "    return self.head == None\n",
        "\n",
        "  def add(self, data):\n",
        "    current = self.head\n",
        "    previous = None\n",
        "    stop = False\n",
        "    # Find the correct position to put the item\n",
        "    while current is not None and not stop:\n",
        "      if current.get_data() > item:\n",
        "        stop = True\n",
        "      else:\n",
        "        previous = current\n",
        "        current = current.get_next()\n",
        "    # Make a temp node\n",
        "    temp = Node(item)\n",
        "    # Check if the item has to be placed at first position\n",
        "    if previous == None:\n",
        "      # Make item the head of the list\n",
        "      temp.set_next(self.head)\n",
        "      self.head = temp\n",
        "    # Otherwise\n",
        "    else:\n",
        "      # Current becomes next of temp\n",
        "      temp.set_next(current)\n",
        "      # And temp becomes next of previous\n",
        "      previous.set_next(temp)\n",
        "\n",
        "  def size(self):\n",
        "    current = self.head\n",
        "    count = 0\n",
        "    while current is not None:\n",
        "      count += 1\n",
        "      current = current.get_next()\n",
        "    return count\n",
        "\n",
        "  def search(self, item):\n",
        "    current = self.head\n",
        "    found = False\n",
        "    stop = False\n",
        "    while current is not None and not found and not stop:\n",
        "      if current.get_data() == item:\n",
        "        found = True\n",
        "      else:\n",
        "        if current.get_data() > item:\n",
        "          stop = True\n",
        "        else:\n",
        "          current = current.get_next()\n",
        "\n",
        "    return found\n",
        "\n",
        "  def remove(self, item):\n",
        "    current = self.head\n",
        "    previous = None\n",
        "    found = False\n",
        "    while not found:\n",
        "      if current.get_data() == item:\n",
        "        found = True\n",
        "      else:\n",
        "        previous = current\n",
        "        current = current.get_next()\n",
        "\n",
        "      if previous == None:\n",
        "        self.head = current.get_next()\n",
        "      else:\n",
        "        previous.set_next(current.get_next())"
      ],
      "execution_count": 25,
      "outputs": []
    },
    {
      "cell_type": "code",
      "metadata": {
        "id": "yJgJft5ow7rb"
      },
      "source": [
        ""
      ],
      "execution_count": null,
      "outputs": []
    }
  ]
}