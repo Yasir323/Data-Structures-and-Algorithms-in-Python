{
  "nbformat": 4,
  "nbformat_minor": 0,
  "metadata": {
    "colab": {
      "name": "Tree Data Structure.ipynb",
      "provenance": [],
      "authorship_tag": "ABX9TyPJ1LF+y+9zpZy9pK8QlpV2",
      "include_colab_link": true
    },
    "kernelspec": {
      "name": "python3",
      "display_name": "Python 3"
    },
    "language_info": {
      "name": "python"
    }
  },
  "cells": [
    {
      "cell_type": "markdown",
      "metadata": {
        "id": "view-in-github",
        "colab_type": "text"
      },
      "source": [
        "<a href=\"https://colab.research.google.com/github/Yasir323/Data-Structures-and-Algorithms-in-Python/blob/master/Tree_Data_Structure.ipynb\" target=\"_parent\"><img src=\"https://colab.research.google.com/assets/colab-badge.svg\" alt=\"Open In Colab\"/></a>"
      ]
    },
    {
      "cell_type": "code",
      "metadata": {
        "id": "OixyQ56pS5K3"
      },
      "source": [
        "class Node():\n",
        "    def __init__(self, key):\n",
        "        self.value = key\n",
        "        self.left = None\n",
        "        self.right = None"
      ],
      "execution_count": 1,
      "outputs": []
    },
    {
      "cell_type": "code",
      "metadata": {
        "colab": {
          "base_uri": "https://localhost:8080/",
          "height": 54
        },
        "id": "CQ-Gfb_9TYeK",
        "outputId": "f807c5ac-da51-49a8-8305-a9bff1708d53"
      },
      "source": [
        "# create root\n",
        "root = Node(1)\n",
        "''' following is the tree after above statement\n",
        "        1\n",
        "      /   \\\n",
        "     None  None'''\n",
        " \n",
        "root.left      = Node(2);\n",
        "root.right     = Node(3);\n",
        "   \n",
        "''' 2 and 3 become left and right children of 1\n",
        "           1\n",
        "         /   \\\n",
        "        2      3\n",
        "     /    \\    /  \\\n",
        "   None None None None'''\n",
        " \n",
        " \n",
        "root.left.left  = Node(4);\n",
        "'''4 becomes left child of 2\n",
        "           1\n",
        "       /       \\\n",
        "      2          3\n",
        "    /   \\       /  \\\n",
        "   4    None  None  None\n",
        "  /  \\\n",
        "None None'''"
      ],
      "execution_count": 2,
      "outputs": [
        {
          "output_type": "execute_result",
          "data": {
            "application/vnd.google.colaboratory.intrinsic+json": {
              "type": "string"
            },
            "text/plain": [
              "'4 becomes left child of 2\\n           1\\n       /             2          3\\n    /   \\\\       /     4    None  None  None\\n  /  None None'"
            ]
          },
          "metadata": {},
          "execution_count": 2
        }
      ]
    },
    {
      "cell_type": "markdown",
      "metadata": {
        "id": "_SUftlfET922"
      },
      "source": [
        "### Properties\n",
        "1. **The maximum number of nodes at level ‘l’ of a binary tree is 2l.** Here level is the number of nodes on the path from the root to the node (including root and node). Level of the root is 0. \n",
        "2. **The Maximum number of nodes in a binary tree of height ‘h’ is 2h+1 – 1.**\n",
        "\n",
        "3. **In a Binary Tree with N nodes, minimum possible height or the minimum number of levels is Log2(N+1) - 1**\n",
        "\n",
        "4. **A Binary Tree with L leaves has at least | Log2L? |+ 1   levels**"
      ]
    },
    {
      "cell_type": "markdown",
      "metadata": {
        "id": "f2yLz5-EU6Cg"
      },
      "source": [
        "### Types\n",
        "1. **Full Binary Tree** A Binary Tree is a full binary tree if every node has 0 or 2 children.\n",
        "\n",
        "2. **Complete Binary Tree**: A Binary Tree is a Complete Binary Tree if all the levels are completely filled except possibly the last level and the last level has all keys as left as possible \n",
        "\n",
        "3. **Perfect Binary Tree** A Binary tree is a Perfect Binary Tree in which all the internal nodes have two children and all leaf nodes are at the same level.\n",
        "\n",
        "4. **Balanced Binary Tree** \n",
        "A binary tree is balanced if the height of the tree is O(Log n) where n is the number of nodes. For Example, the AVL tree maintains O(Log n) height by making sure that the difference between the heights of the left and right subtrees is at most 1. Red-Black trees maintain O(Log n) height by making sure that the number of Black nodes on every root to leaf paths is the same and there are no adjacent red nodes. Balanced Binary Search trees are performance-wise good as they provide O(log n) time for search, insert and delete.\n",
        "\n",
        "5. A degenerate (or pathological) tree A Tree where every internal node has one child. Such trees are performance-wise same as linked list.\n",
        "\n",
        "6. In a k-ary tree where every node has either 0 or k children, following property is always true. \n",
        "\n",
        "  L = (k - 1)*I + 1\n",
        "Where L = Number of leaf nodes,\n",
        "      I = Number of internal nodes  \n",
        "7. In Binary tree, a number of leaf nodes is always one more than nodes with two children. \n",
        " \n",
        "    L = T + 1\n",
        "Where L = Number of leaf nodes,\n",
        "    T = Number of internal nodes with two children"
      ]
    },
    {
      "cell_type": "markdown",
      "metadata": {
        "id": "mFttXvpIfa3o"
      },
      "source": [
        "### Enumeration of Binary Trees\n",
        "A Binary Tree is labelled if every node is assigned a label and a Binary Tree is unlabelled if nodes are not assigned any label.\n",
        "\n",
        "For example, let T(n) be count for n nodes.\n",
        "$T(0) = 1$  [There is only 1 empty tree]\n",
        "\n",
        "$T(1) = 1$\n",
        "\n",
        "$T(2) = 2$\n",
        "\n",
        "$T(3) =  T(0)*T(2) + T(1)*T(1) + T(2)*T(0)$ = 1*2 + 1*1 + 2*1 = 5\n",
        "\n",
        "$T(4) =  T(0)*T(3) + T(1)*T(2) + T(2)*T(1) + T(3)*T(0)$\n",
        "     =  1*5 + 1*2 + 2*1 + 5*1\n",
        "     =  14"
      ]
    },
    {
      "cell_type": "markdown",
      "metadata": {
        "id": "S70fwSgFgOqO"
      },
      "source": [
        "The above pattern basically represents n’th Catalan Numbers. First few catalan numbers are 1 1 2 5 14 42 132 429 1430 4862,… "
      ]
    },
    {
      "cell_type": "markdown",
      "metadata": {
        "id": "WyDDcAM_f_oN"
      },
      "source": [
        "![image.png](data:image/png;base64,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)"
      ]
    },
    {
      "cell_type": "markdown",
      "metadata": {
        "id": "BdSo2DRBgTyw"
      },
      "source": [
        "Here, \n",
        "T(i-1) represents number of nodes on the left-sub-tree \n",
        "T(n−i-1) represents number of nodes on the right-sub-tree\n",
        "\n",
        "n’th Catalan Number can also be evaluated using direct formula. \n",
        "\n",
        "   $T(n) = \\frac{(2n)!}{(n+1)!n!}$"
      ]
    },
    {
      "cell_type": "markdown",
      "metadata": {
        "id": "SZKrcNn3gptk"
      },
      "source": [
        "How many labelled Binary Trees can be there with n nodes? \n",
        "To count labelled trees, we can use above count for unlabelled trees. The idea is simple, every unlabelled tree with n nodes can create n! different labelled trees by assigning different permutations of labels to all nodes. \n",
        "\n",
        "Therefore, \n",
        "\n",
        "    Number of Labelled Trees = (Number of unlabelled trees) * n!"
      ]
    },
    {
      "cell_type": "markdown",
      "metadata": {
        "id": "njUMlAKVh28c"
      },
      "source": [
        "### <a href=\"https://www.geeksforgeeks.org/applications-of-tree-data-structure/\">Applications of tree data structure</a>"
      ]
    },
    {
      "cell_type": "markdown",
      "metadata": {
        "id": "7R3tPta1SAlN"
      },
      "source": [
        "## Tree Traversal\n",
        "![image](https://media.geeksforgeeks.org/wp-content/cdn-uploads/2009/06/tree12.gif)\n",
        "\n",
        "Depth First Traversals: \n",
        "1. Inorder (Left, Root, Right) : 4 2 5 1 3 \n",
        "2. Preorder (Root, Left, Right) : 1 2 4 5 3 \n",
        "3. Postorder (Left, Right, Root) : 4 5 2 3 1\n",
        "\n",
        "Breadth First or Level Order Traversal : 1 2 3 4 5 "
      ]
    },
    {
      "cell_type": "markdown",
      "metadata": {
        "id": "i3af2waCR7c5"
      },
      "source": [
        "1.    Extra Space required for Level Order Traversal is O(w) where w is maximum width of Binary Tree. In level order traversal, queue one by one stores nodes of different level.\n",
        "2.    Extra Space required for Depth First Traversals is O(h) where h is maximum height of Binary Tree. In Depth First Traversals, stack (or function call stack) stores all ancestors of a node.\n",
        "\n",
        "*Extra space required for Level order traversal is likely to be more when tree is more balanced and extra space for Depth First Traversal is likely to be more when tree is less balanced.*"
      ]
    },
    {
      "cell_type": "code",
      "metadata": {
        "id": "vv1qZlp1Ta0k"
      },
      "source": [
        "# Inorder Traversal\n",
        "def print_inorder(root):\n",
        "    if root:\n",
        "        print_inorder(root.left)\n",
        "        print(root.value, end=' ')\n",
        "        print_inorder(root.right)"
      ],
      "execution_count": 3,
      "outputs": []
    },
    {
      "cell_type": "code",
      "metadata": {
        "id": "MqeEfvPUTYHe"
      },
      "source": [
        "# Preorder Traversal\n",
        "def print_preorder(root):\n",
        "    if root:\n",
        "        print(root.value, end=' ')\n",
        "        print_preorder(root.left)\n",
        "        print_preorder(root.right)"
      ],
      "execution_count": 4,
      "outputs": []
    },
    {
      "cell_type": "code",
      "metadata": {
        "id": "hrN05Wv1TtVS"
      },
      "source": [
        "# Postorder Traversal\n",
        "def print_postorder(root):\n",
        "    if root:\n",
        "        print_postorder(root.left)\n",
        "        print_postorder(root.right)\n",
        "        print(root.value, end=' ')"
      ],
      "execution_count": 5,
      "outputs": []
    },
    {
      "cell_type": "code",
      "metadata": {
        "colab": {
          "base_uri": "https://localhost:8080/"
        },
        "id": "Ugp5W8BPT-7b",
        "outputId": "de819fe2-2673-4c05-c85c-3f77b35df0a9"
      },
      "source": [
        "root = Node(1)\n",
        "root.left = Node(2)\n",
        "root.right = Node(3)\n",
        "root.left.left = Node(4)\n",
        "root.left.right = Node(5)\n",
        "print('Inorder traversal: ', end=' ')\n",
        "print_inorder(root)\n",
        "print()\n",
        "print('Preorder traversal: ', end=' ')\n",
        "print_preorder(root)\n",
        "print()\n",
        "print('Postorder traversal: ', end=' ')\n",
        "print_postorder(root)"
      ],
      "execution_count": 6,
      "outputs": [
        {
          "output_type": "stream",
          "name": "stdout",
          "text": [
            "Inorder traversal:  4 2 5 1 3 \n",
            "Preorder traversal:  1 2 4 5 3 \n",
            "Postorder traversal:  4 5 2 3 1 "
          ]
        }
      ]
    },
    {
      "cell_type": "code",
      "metadata": {
        "id": "5gem7-zXTvOO"
      },
      "source": [
        "# Level Order Traversal\n",
        "def printLevelOrder(root):\n",
        "    h = height(root)\n",
        "    for i in range(1, h+1):\n",
        "        printCurrentLevel(root, i)\n",
        "\n",
        "\n",
        "def printCurrentLevel(root, level):\n",
        "    if root is None:\n",
        "        return\n",
        "    if level == 1:\n",
        "        print(root.value, end=' ')\n",
        "    elif level > 1:\n",
        "        printCurrentLevel(root.left, level - 1)\n",
        "        printCurrentLevel(root.right, level - 1)\n",
        "\n",
        "\n",
        "def height(node):\n",
        "    if node is None:\n",
        "        return 0\n",
        "    else:\n",
        "        lheight = height(node.left)\n",
        "        rheight = height(node.right)\n",
        "        if lheight > rheight:\n",
        "            return lheight + 1\n",
        "        else:\n",
        "            return rheight + 1"
      ],
      "execution_count": 7,
      "outputs": []
    },
    {
      "cell_type": "code",
      "metadata": {
        "id": "CnUcdR3mVN06",
        "outputId": "bd66f66e-e720-4740-c511-ffcfb4ab534c",
        "colab": {
          "base_uri": "https://localhost:8080/"
        }
      },
      "source": [
        "print('Level Order Traversal: ', end=' ')\n",
        "printLevelOrder(root)"
      ],
      "execution_count": 8,
      "outputs": [
        {
          "output_type": "stream",
          "name": "stdout",
          "text": [
            "Level Order Traversal:  1 2 3 4 5 "
          ]
        }
      ]
    },
    {
      "cell_type": "markdown",
      "metadata": {
        "id": "bCMt8Ta62FLI"
      },
      "source": [
        "### Level Order Using Queue\n",
        "printLevelorder(tree)\n",
        "1. Create an empty queue q\n",
        "2. temp_node = root /*start from root*/\n",
        "3. Loop while temp_node is not NULL\n",
        "    a. print temp_node->data.\n",
        "    \n",
        "    b. Enqueue temp_node’s children (first left then right children) to q\n",
        "    \n",
        "    c. Dequeue a node from q."
      ]
    },
    {
      "cell_type": "code",
      "metadata": {
        "id": "RqGlUyZ42cGi"
      },
      "source": [
        "def printLevelOrder(root):\n",
        "    # Base Case\n",
        "    if root is None:\n",
        "        return\n",
        "     \n",
        "    # Create an empty queue\n",
        "    # for level order traversal\n",
        "    queue = []\n",
        " \n",
        "    # Enqueue Root and initialize height\n",
        "    queue.append(root)\n",
        " \n",
        "    while(len(queue) > 0):\n",
        "       \n",
        "        # Print front of queue and\n",
        "        # remove it from queue\n",
        "        print(queue[0].value, end=' ')\n",
        "        node = queue.pop(0)\n",
        " \n",
        "        #Enqueue left child\n",
        "        if node.left is not None:\n",
        "            queue.append(node.left)\n",
        " \n",
        "        # Enqueue right child\n",
        "        if node.right is not None:\n",
        "            queue.append(node.right)"
      ],
      "execution_count": 13,
      "outputs": []
    },
    {
      "cell_type": "code",
      "metadata": {
        "id": "H9MSslVh2shy",
        "outputId": "fd5d35e7-52b5-4c45-ee44-e936535df0c7",
        "colab": {
          "base_uri": "https://localhost:8080/"
        }
      },
      "source": [
        "print('Level Order Traversal: ', end=' ')\n",
        "printLevelOrder(root)"
      ],
      "execution_count": 14,
      "outputs": [
        {
          "output_type": "stream",
          "name": "stdout",
          "text": [
            "Level Order Traversal:  1 2 3 4 5 "
          ]
        }
      ]
    },
    {
      "cell_type": "markdown",
      "metadata": {
        "id": "433m97HmViVD"
      },
      "source": [
        "Time Complexity: O(n) \n",
        "Let us see different corner cases. \n",
        "Complexity function T(n) — for all problem where tree traversal is involved — can be defined as:\n",
        "T(n) = T(k) + T(n – k – 1) + c\n",
        "Where k is the number of nodes on one side of root and n-k-1 on the other side.\n",
        "Let’s do an analysis of boundary conditions\n",
        "Case 1: Skewed tree (One of the subtrees is empty and other subtree is non-empty )\n",
        "k is 0 in this case. \n",
        "T(n) = T(0) + T(n-1) + c \n",
        "\n",
        "T(n) = 2T(0) + T(n-2) + 2c \n",
        "\n",
        "T(n) = 3T(0) + T(n-3) + 3c \n",
        "\n",
        "T(n) = 4T(0) + T(n-4) + 4c\n",
        "\n",
        "………………………………………… \n",
        "…………………………………………. \n",
        "\n",
        "T(n) = (n-1)T(0) + T(1) + (n-1)c \n",
        "\n",
        "T(n) = nT(0) + (n)c\n",
        "Value of T(0) will be some constant say d. (traversing a empty tree will take some constants time)\n",
        "\n",
        "T(n) = n(c+d) \n",
        "\n",
        "T(n) = Θ(n) (Theta of n)\n",
        "\n",
        "Case 2: Both left and right subtrees have equal number of nodes.\n",
        "\n",
        "T(n) = 2T(|_n/2_|) + c\n",
        "\n",
        "This recursive function is in the standard form \n",
        "\n",
        "(T(n) = aT(n/b) + (-)(n) ) \n",
        "\n",
        "for master method <a href=\"http://en.wikipedia.org/wiki/Master_theorem\">Master Theorem</a>. If we solve it by master method we get (-)(n)\n",
        "Auxiliary Space : If we don’t consider size of stack for function calls then O(1) otherwise O(h) where h is the height of the tree. \n",
        "\n",
        "The height of the skewed tree is n (no. of elements) so the worst space complexity is O(n) and height is (Log n) for balanced tree so the best space complexity is O(Log n)."
      ]
    },
    {
      "cell_type": "markdown",
      "metadata": {
        "id": "NRGYQPRPXEd-"
      },
      "source": [
        "### Write a Program to print the size of the tree"
      ]
    },
    {
      "cell_type": "code",
      "metadata": {
        "id": "1DVFcUTwUpKd"
      },
      "source": [
        "def size(node):\n",
        "    if node is None:\n",
        "        return 0\n",
        "    return size(node.left) + 1 + size(node.right)"
      ],
      "execution_count": 15,
      "outputs": []
    },
    {
      "cell_type": "code",
      "metadata": {
        "colab": {
          "base_uri": "https://localhost:8080/"
        },
        "id": "PEqfgbc_XZ3o",
        "outputId": "1fd39052-c67c-4247-be3d-7c022cfca3b7"
      },
      "source": [
        "print(f'Size of the tree is: {size(root)}')"
      ],
      "execution_count": 16,
      "outputs": [
        {
          "output_type": "stream",
          "name": "stdout",
          "text": [
            "Size of the tree is: 5\n"
          ]
        }
      ]
    },
    {
      "cell_type": "markdown",
      "metadata": {
        "id": "0ZWKUsrDX05A"
      },
      "source": [
        "### Write a Program to find the maximum or minimum element of a tree."
      ]
    },
    {
      "cell_type": "code",
      "metadata": {
        "id": "PnSi75osXhae"
      },
      "source": [
        "def find_max(root):\n",
        "    # Base Case\n",
        "    if root is None:\n",
        "        return float('-inf')\n",
        "\n",
        "    max_ = root.value\n",
        "    lmax_ = find_max(root.left)\n",
        "    rmax_ = find_max(root.right)\n",
        "    if lmax_ > max_:\n",
        "        max_ = lmax_\n",
        "    if rmax_ > max_:\n",
        "        max_ = rmax_\n",
        "    return max_"
      ],
      "execution_count": 17,
      "outputs": []
    },
    {
      "cell_type": "code",
      "metadata": {
        "colab": {
          "base_uri": "https://localhost:8080/"
        },
        "id": "kXQXBHGbYp64",
        "outputId": "bcc1df63-dc7d-4b63-b4e4-207ad73e2675"
      },
      "source": [
        "root = Node(2)\n",
        "root.left = Node(7)\n",
        "root.right = Node(5)\n",
        "root.left.right = Node(6)\n",
        "root.left.right.left = Node(1)\n",
        "root.left.right.right = Node(11)\n",
        "root.right.right = Node(9)\n",
        "root.right.right.left = Node(4)\n",
        "print('Inorder traversal: ', end=' ')\n",
        "print_inorder(root)\n",
        "print()\n",
        "print('Preorder traversal: ', end=' ')\n",
        "print_preorder(root)\n",
        "print()\n",
        "print('Postorder traversal: ', end=' ')\n",
        "print_postorder(root)"
      ],
      "execution_count": 18,
      "outputs": [
        {
          "output_type": "stream",
          "name": "stdout",
          "text": [
            "Inorder traversal:  7 1 6 11 2 5 4 9 \n",
            "Preorder traversal:  2 7 6 1 11 5 9 4 \n",
            "Postorder traversal:  1 11 6 7 4 9 5 2 "
          ]
        }
      ]
    },
    {
      "cell_type": "code",
      "metadata": {
        "colab": {
          "base_uri": "https://localhost:8080/"
        },
        "id": "Xk735p45Y5dz",
        "outputId": "282c04a9-691a-490a-a998-cc58386955c9"
      },
      "source": [
        "print(f'The Maximum value in the tree is {find_max(root)}.')"
      ],
      "execution_count": 19,
      "outputs": [
        {
          "output_type": "stream",
          "name": "stdout",
          "text": [
            "The Maximum value in the tree is 11.\n"
          ]
        }
      ]
    },
    {
      "cell_type": "code",
      "metadata": {
        "id": "SoyY5ePn3CsR"
      },
      "source": [
        ""
      ],
      "execution_count": null,
      "outputs": []
    }
  ]
}