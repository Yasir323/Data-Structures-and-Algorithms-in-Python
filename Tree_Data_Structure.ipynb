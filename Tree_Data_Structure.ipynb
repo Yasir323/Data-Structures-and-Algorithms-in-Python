{
  "nbformat": 4,
  "nbformat_minor": 0,
  "metadata": {
    "colab": {
      "name": "Tree Data Structure.ipynb",
      "provenance": [],
      "collapsed_sections": [],
      "authorship_tag": "ABX9TyNHG+2NbhXYirf7hRJKgwIx",
      "include_colab_link": true
    },
    "kernelspec": {
      "name": "python3",
      "display_name": "Python 3"
    },
    "language_info": {
      "name": "python"
    }
  },
  "cells": [
    {
      "cell_type": "markdown",
      "metadata": {
        "id": "view-in-github",
        "colab_type": "text"
      },
      "source": [
        "<a href=\"https://colab.research.google.com/github/Yasir323/Data-Structures-and-Algorithms-in-Python/blob/master/Tree_Data_Structure.ipynb\" target=\"_parent\"><img src=\"https://colab.research.google.com/assets/colab-badge.svg\" alt=\"Open In Colab\"/></a>"
      ]
    },
    {
      "cell_type": "code",
      "metadata": {
        "id": "OixyQ56pS5K3"
      },
      "source": [
        "class Node():\n",
        "    def __init__(self, key):\n",
        "        self.value = key\n",
        "        self.left = None\n",
        "        self.right = None"
      ],
      "execution_count": 1,
      "outputs": []
    },
    {
      "cell_type": "code",
      "metadata": {
        "colab": {
          "base_uri": "https://localhost:8080/",
          "height": 54
        },
        "id": "CQ-Gfb_9TYeK",
        "outputId": "6b19b33f-a7da-4b8e-8846-d1154ec735dd"
      },
      "source": [
        "# create root\n",
        "root = Node(1)\n",
        "''' following is the tree after above statement\n",
        "        1\n",
        "      /   \\\n",
        "     None  None'''\n",
        " \n",
        "root.left      = Node(2);\n",
        "root.right     = Node(3);\n",
        "   \n",
        "''' 2 and 3 become left and right children of 1\n",
        "           1\n",
        "         /   \\\n",
        "        2      3\n",
        "     /    \\    /  \\\n",
        "   None None None None'''\n",
        " \n",
        " \n",
        "root.left.left  = Node(4);\n",
        "'''4 becomes left child of 2\n",
        "           1\n",
        "       /       \\\n",
        "      2          3\n",
        "    /   \\       /  \\\n",
        "   4    None  None  None\n",
        "  /  \\\n",
        "None None'''"
      ],
      "execution_count": 2,
      "outputs": [
        {
          "output_type": "execute_result",
          "data": {
            "application/vnd.google.colaboratory.intrinsic+json": {
              "type": "string"
            },
            "text/plain": [
              "'4 becomes left child of 2\\n           1\\n       /             2          3\\n    /   \\\\       /     4    None  None  None\\n  /  None None'"
            ]
          },
          "metadata": {},
          "execution_count": 2
        }
      ]
    },
    {
      "cell_type": "markdown",
      "metadata": {
        "id": "_SUftlfET922"
      },
      "source": [
        "### Properties\n",
        "1. **The maximum number of nodes at level ‘l’ of a binary tree is 2l.** Here level is the number of nodes on the path from the root to the node (including root and node). Level of the root is 0. \n",
        "2. **The Maximum number of nodes in a binary tree of height ‘h’ is 2h+1 – 1.**\n",
        "\n",
        "3. **In a Binary Tree with N nodes, minimum possible height or the minimum number of levels is Log2(N+1) - 1**\n",
        "\n",
        "4. **A Binary Tree with L leaves has at least | Log2L? |+ 1   levels**"
      ]
    },
    {
      "cell_type": "markdown",
      "metadata": {
        "id": "f2yLz5-EU6Cg"
      },
      "source": [
        "### Types\n",
        "1. **Full Binary Tree** A Binary Tree is a full binary tree if every node has 0 or 2 children.\n",
        "\n",
        "2. **Complete Binary Tree**: A Binary Tree is a Complete Binary Tree if all the levels are completely filled except possibly the last level and the last level has all keys as left as possible \n",
        "\n",
        "3. **Perfect Binary Tree** A Binary tree is a Perfect Binary Tree in which all the internal nodes have two children and all leaf nodes are at the same level.\n",
        "\n",
        "4. **Balanced Binary Tree** \n",
        "A binary tree is balanced if the height of the tree is O(Log n) where n is the number of nodes. For Example, the AVL tree maintains O(Log n) height by making sure that the difference between the heights of the left and right subtrees is at most 1. Red-Black trees maintain O(Log n) height by making sure that the number of Black nodes on every root to leaf paths is the same and there are no adjacent red nodes. Balanced Binary Search trees are performance-wise good as they provide O(log n) time for search, insert and delete.\n",
        "\n",
        "5. A degenerate (or pathological) tree A Tree where every internal node has one child. Such trees are performance-wise same as linked list.\n",
        "\n",
        "6. In a k-ary tree where every node has either 0 or k children, following property is always true. \n",
        "\n",
        "  L = (k - 1)*I + 1\n",
        "Where L = Number of leaf nodes,\n",
        "      I = Number of internal nodes  \n",
        "7. In Binary tree, a number of leaf nodes is always one more than nodes with two children. \n",
        " \n",
        "    L = T + 1\n",
        "Where L = Number of leaf nodes,\n",
        "    T = Number of internal nodes with two children"
      ]
    },
    {
      "cell_type": "markdown",
      "metadata": {
        "id": "mFttXvpIfa3o"
      },
      "source": [
        "### Enumeration of Binary Trees\n",
        "A Binary Tree is labelled if every node is assigned a label and a Binary Tree is unlabelled if nodes are not assigned any label.\n",
        "\n",
        "For example, let T(n) be count for n nodes.\n",
        "$T(0) = 1$  [There is only 1 empty tree]\n",
        "\n",
        "$T(1) = 1$\n",
        "\n",
        "$T(2) = 2$\n",
        "\n",
        "$T(3) =  T(0)*T(2) + T(1)*T(1) + T(2)*T(0)$ = 1*2 + 1*1 + 2*1 = 5\n",
        "\n",
        "$T(4) =  T(0)*T(3) + T(1)*T(2) + T(2)*T(1) + T(3)*T(0)$\n",
        "     =  1*5 + 1*2 + 2*1 + 5*1\n",
        "     =  14"
      ]
    },
    {
      "cell_type": "markdown",
      "metadata": {
        "id": "S70fwSgFgOqO"
      },
      "source": [
        "The above pattern basically represents n’th Catalan Numbers. First few catalan numbers are 1 1 2 5 14 42 132 429 1430 4862,… "
      ]
    },
    {
      "cell_type": "markdown",
      "metadata": {
        "id": "WyDDcAM_f_oN"
      },
      "source": [
        "![image.png](data:image/png;base64,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)"
      ]
    },
    {
      "cell_type": "markdown",
      "metadata": {
        "id": "BdSo2DRBgTyw"
      },
      "source": [
        "Here, \n",
        "T(i-1) represents number of nodes on the left-sub-tree \n",
        "T(n−i-1) represents number of nodes on the right-sub-tree\n",
        "\n",
        "n’th Catalan Number can also be evaluated using direct formula. \n",
        "\n",
        "   $T(n) = \\frac{(2n)!}{(n+1)!n!}$"
      ]
    },
    {
      "cell_type": "markdown",
      "metadata": {
        "id": "SZKrcNn3gptk"
      },
      "source": [
        "How many labelled Binary Trees can be there with n nodes? \n",
        "To count labelled trees, we can use above count for unlabelled trees. The idea is simple, every unlabelled tree with n nodes can create n! different labelled trees by assigning different permutations of labels to all nodes. \n",
        "\n",
        "Therefore, \n",
        "\n",
        "    Number of Labelled Trees = (Number of unlabelled trees) * n!"
      ]
    },
    {
      "cell_type": "markdown",
      "metadata": {
        "id": "njUMlAKVh28c"
      },
      "source": [
        "### <a href=\"https://www.geeksforgeeks.org/applications-of-tree-data-structure/\">Applications of tree data structure</a>"
      ]
    },
    {
      "cell_type": "markdown",
      "metadata": {
        "id": "7R3tPta1SAlN"
      },
      "source": [
        "## Tree Traversal\n",
        "![image](https://media.geeksforgeeks.org/wp-content/cdn-uploads/2009/06/tree12.gif)\n",
        "\n",
        "Depth First Traversals: \n",
        "1. Inorder (Left, Root, Right) : 4 2 5 1 3 \n",
        "2. Preorder (Root, Left, Right) : 1 2 4 5 3 \n",
        "3. Postorder (Left, Right, Root) : 4 5 2 3 1\n",
        "\n",
        "Breadth First or Level Order Traversal : 1 2 3 4 5 "
      ]
    },
    {
      "cell_type": "markdown",
      "metadata": {
        "id": "i3af2waCR7c5"
      },
      "source": [
        "1.    Extra Space required for Level Order Traversal is O(w) where w is maximum width of Binary Tree. In level order traversal, queue one by one stores nodes of different level.\n",
        "2.    Extra Space required for Depth First Traversals is O(h) where h is maximum height of Binary Tree. In Depth First Traversals, stack (or function call stack) stores all ancestors of a node.\n",
        "\n",
        "*Extra space required for Level order traversal is likely to be more when tree is more balanced and extra space for Depth First Traversal is likely to be more when tree is less balanced.*"
      ]
    },
    {
      "cell_type": "code",
      "metadata": {
        "id": "vv1qZlp1Ta0k"
      },
      "source": [
        "# Inorder Traversal\n",
        "def print_inorder(root):\n",
        "    if root:\n",
        "        print_inorder(root.left)\n",
        "        print(root.value, end=' ')\n",
        "        print_inorder(root.right)"
      ],
      "execution_count": 3,
      "outputs": []
    },
    {
      "cell_type": "code",
      "metadata": {
        "id": "MqeEfvPUTYHe"
      },
      "source": [
        "# Preorder Traversal\n",
        "def print_preorder(root):\n",
        "    if root:\n",
        "        print(root.value, end=' ')\n",
        "        print_preorder(root.left)\n",
        "        print_preorder(root.right)"
      ],
      "execution_count": 4,
      "outputs": []
    },
    {
      "cell_type": "code",
      "metadata": {
        "id": "hrN05Wv1TtVS"
      },
      "source": [
        "# Postorder Traversal\n",
        "def print_postorder(root):\n",
        "    if root:\n",
        "        print_postorder(root.left)\n",
        "        print_postorder(root.right)\n",
        "        print(root.value, end=' ')"
      ],
      "execution_count": 5,
      "outputs": []
    },
    {
      "cell_type": "code",
      "metadata": {
        "colab": {
          "base_uri": "https://localhost:8080/"
        },
        "id": "Ugp5W8BPT-7b",
        "outputId": "3e47bcd3-11d1-4114-a4dd-12d714540341"
      },
      "source": [
        "root = Node(1)\n",
        "root.left = Node(2)\n",
        "root.right = Node(3)\n",
        "root.left.left = Node(4)\n",
        "root.left.right = Node(5)\n",
        "print('Inorder traversal: ', end=' ')\n",
        "print_inorder(root)\n",
        "print()\n",
        "print('Preorder traversal: ', end=' ')\n",
        "print_preorder(root)\n",
        "print()\n",
        "print('Postorder traversal: ', end=' ')\n",
        "print_postorder(root)"
      ],
      "execution_count": 6,
      "outputs": [
        {
          "output_type": "stream",
          "name": "stdout",
          "text": [
            "Inorder traversal:  4 2 5 1 3 \n",
            "Preorder traversal:  1 2 4 5 3 \n",
            "Postorder traversal:  4 5 2 3 1 "
          ]
        }
      ]
    },
    {
      "cell_type": "code",
      "metadata": {
        "id": "5gem7-zXTvOO"
      },
      "source": [
        "# Level Order Traversal\n",
        "def printLevelOrder(root):\n",
        "    h = height(root)\n",
        "    for i in range(1, h+1):\n",
        "        printCurrentLevel(root, i)\n",
        "\n",
        "\n",
        "def printCurrentLevel(root, level):\n",
        "    if root is None:\n",
        "        return\n",
        "    if level == 1:\n",
        "        print(root.value, end=' ')\n",
        "    elif level > 1:\n",
        "        printCurrentLevel(root.left, level - 1)\n",
        "        printCurrentLevel(root.right, level - 1)\n",
        "\n",
        "\n",
        "def height(node):\n",
        "    if node is None:\n",
        "        return 0\n",
        "    else:\n",
        "        lheight = height(node.left)\n",
        "        rheight = height(node.right)\n",
        "        if lheight > rheight:\n",
        "            return lheight + 1\n",
        "        else:\n",
        "            return rheight + 1"
      ],
      "execution_count": 7,
      "outputs": []
    },
    {
      "cell_type": "code",
      "metadata": {
        "colab": {
          "base_uri": "https://localhost:8080/"
        },
        "id": "CnUcdR3mVN06",
        "outputId": "649cb79a-f356-42dc-b4af-0189532519c5"
      },
      "source": [
        "print('Level Order Traversal: ', end=' ')\n",
        "printLevelOrder(root)"
      ],
      "execution_count": 8,
      "outputs": [
        {
          "output_type": "stream",
          "name": "stdout",
          "text": [
            "Level Order Traversal:  1 2 3 4 5 "
          ]
        }
      ]
    },
    {
      "cell_type": "markdown",
      "metadata": {
        "id": "bCMt8Ta62FLI"
      },
      "source": [
        "### Level Order Using Queue\n",
        "printLevelorder(tree)\n",
        "1. Create an empty queue q\n",
        "2. temp_node = root /*start from root*/\n",
        "3. Loop while temp_node is not NULL\n",
        "    \n",
        "    a. print temp_node->data.\n",
        "    \n",
        "    b. Enqueue temp_node’s children (first left then right children) to q\n",
        "    \n",
        "    c. Dequeue a node from q."
      ]
    },
    {
      "cell_type": "code",
      "metadata": {
        "id": "RqGlUyZ42cGi"
      },
      "source": [
        "def printLevelOrder(root):\n",
        "    # Base Case\n",
        "    if root is None:\n",
        "        return\n",
        "     \n",
        "    # Create an empty queue\n",
        "    # for level order traversal\n",
        "    queue = []\n",
        " \n",
        "    # Enqueue Root and initialize height\n",
        "    queue.append(root)\n",
        " \n",
        "    while(len(queue) > 0):\n",
        "       \n",
        "        # Print front of queue and\n",
        "        # remove it from queue\n",
        "        print(queue[0].value, end=' ')\n",
        "        node = queue.pop(0)\n",
        " \n",
        "        #Enqueue left child\n",
        "        if node.left is not None:\n",
        "            queue.append(node.left)\n",
        " \n",
        "        # Enqueue right child\n",
        "        if node.right is not None:\n",
        "            queue.append(node.right)"
      ],
      "execution_count": 9,
      "outputs": []
    },
    {
      "cell_type": "code",
      "metadata": {
        "colab": {
          "base_uri": "https://localhost:8080/"
        },
        "id": "H9MSslVh2shy",
        "outputId": "866b6768-af88-40cb-c7e6-d12d67baba69"
      },
      "source": [
        "print('Level Order Traversal: ', end=' ')\n",
        "printLevelOrder(root)"
      ],
      "execution_count": 10,
      "outputs": [
        {
          "output_type": "stream",
          "name": "stdout",
          "text": [
            "Level Order Traversal:  1 2 3 4 5 "
          ]
        }
      ]
    },
    {
      "cell_type": "markdown",
      "metadata": {
        "id": "433m97HmViVD"
      },
      "source": [
        "Time Complexity: O(n) \n",
        "Let us see different corner cases. \n",
        "Complexity function T(n) — for all problem where tree traversal is involved — can be defined as:\n",
        "T(n) = T(k) + T(n – k – 1) + c\n",
        "Where k is the number of nodes on one side of root and n-k-1 on the other side.\n",
        "Let’s do an analysis of boundary conditions\n",
        "Case 1: Skewed tree (One of the subtrees is empty and other subtree is non-empty )\n",
        "k is 0 in this case. \n",
        "T(n) = T(0) + T(n-1) + c \n",
        "\n",
        "T(n) = 2T(0) + T(n-2) + 2c \n",
        "\n",
        "T(n) = 3T(0) + T(n-3) + 3c \n",
        "\n",
        "T(n) = 4T(0) + T(n-4) + 4c\n",
        "\n",
        "………………………………………… \n",
        "…………………………………………. \n",
        "\n",
        "T(n) = (n-1)T(0) + T(1) + (n-1)c \n",
        "\n",
        "T(n) = nT(0) + (n)c\n",
        "Value of T(0) will be some constant say d. (traversing a empty tree will take some constants time)\n",
        "\n",
        "T(n) = n(c+d) \n",
        "\n",
        "T(n) = Θ(n) (Theta of n)\n",
        "\n",
        "Case 2: Both left and right subtrees have equal number of nodes.\n",
        "\n",
        "T(n) = 2T(|_n/2_|) + c\n",
        "\n",
        "This recursive function is in the standard form \n",
        "\n",
        "(T(n) = aT(n/b) + (-)(n) ) \n",
        "\n",
        "for master method <a href=\"http://en.wikipedia.org/wiki/Master_theorem\">Master Theorem</a>. If we solve it by master method we get (-)(n)\n",
        "Auxiliary Space : If we don’t consider size of stack for function calls then O(1) otherwise O(h) where h is the height of the tree. \n",
        "\n",
        "The height of the skewed tree is n (no. of elements) so the worst space complexity is O(n) and height is (Log n) for balanced tree so the best space complexity is O(Log n)."
      ]
    },
    {
      "cell_type": "markdown",
      "metadata": {
        "id": "NRGYQPRPXEd-"
      },
      "source": [
        "### Write a Program to print the size of the tree"
      ]
    },
    {
      "cell_type": "code",
      "metadata": {
        "id": "1DVFcUTwUpKd"
      },
      "source": [
        "def size(node):\n",
        "    if node is None:\n",
        "        return 0\n",
        "    return size(node.left) + 1 + size(node.right)"
      ],
      "execution_count": 11,
      "outputs": []
    },
    {
      "cell_type": "code",
      "metadata": {
        "colab": {
          "base_uri": "https://localhost:8080/"
        },
        "id": "PEqfgbc_XZ3o",
        "outputId": "f9b81910-925b-46fc-91a9-b40023930213"
      },
      "source": [
        "print(f'Size of the tree is: {size(root)}')"
      ],
      "execution_count": 12,
      "outputs": [
        {
          "output_type": "stream",
          "name": "stdout",
          "text": [
            "Size of the tree is: 5\n"
          ]
        }
      ]
    },
    {
      "cell_type": "markdown",
      "metadata": {
        "id": "0ZWKUsrDX05A"
      },
      "source": [
        "### Write a Program to find the maximum or minimum element of a tree."
      ]
    },
    {
      "cell_type": "code",
      "metadata": {
        "id": "PnSi75osXhae"
      },
      "source": [
        "def find_max(root):\n",
        "    # Base Case\n",
        "    if root is None:\n",
        "        return float('-inf')\n",
        "\n",
        "    max_ = root.value\n",
        "    lmax_ = find_max(root.left)\n",
        "    rmax_ = find_max(root.right)\n",
        "    if lmax_ > max_:\n",
        "        max_ = lmax_\n",
        "    if rmax_ > max_:\n",
        "        max_ = rmax_\n",
        "    return max_"
      ],
      "execution_count": 13,
      "outputs": []
    },
    {
      "cell_type": "code",
      "metadata": {
        "colab": {
          "base_uri": "https://localhost:8080/"
        },
        "id": "kXQXBHGbYp64",
        "outputId": "e2497a2c-2ae9-4c08-a047-718baa8c45f5"
      },
      "source": [
        "root = Node(2)\n",
        "root.left = Node(7)\n",
        "root.right = Node(5)\n",
        "root.left.right = Node(6)\n",
        "root.left.right.left = Node(1)\n",
        "root.left.right.right = Node(11)\n",
        "root.right.right = Node(9)\n",
        "root.right.right.left = Node(4)\n",
        "print('Inorder traversal: ', end=' ')\n",
        "print_inorder(root)\n",
        "print()\n",
        "print('Preorder traversal: ', end=' ')\n",
        "print_preorder(root)\n",
        "print()\n",
        "print('Postorder traversal: ', end=' ')\n",
        "print_postorder(root)"
      ],
      "execution_count": 14,
      "outputs": [
        {
          "output_type": "stream",
          "name": "stdout",
          "text": [
            "Inorder traversal:  7 1 6 11 2 5 4 9 \n",
            "Preorder traversal:  2 7 6 1 11 5 9 4 \n",
            "Postorder traversal:  1 11 6 7 4 9 5 2 "
          ]
        }
      ]
    },
    {
      "cell_type": "code",
      "metadata": {
        "colab": {
          "base_uri": "https://localhost:8080/"
        },
        "id": "Xk735p45Y5dz",
        "outputId": "60473481-facc-4053-a35c-7c7a27234168"
      },
      "source": [
        "print(f'The Maximum value in the tree is {find_max(root)}.')"
      ],
      "execution_count": 15,
      "outputs": [
        {
          "output_type": "stream",
          "name": "stdout",
          "text": [
            "The Maximum value in the tree is 11.\n"
          ]
        }
      ]
    },
    {
      "cell_type": "markdown",
      "metadata": {
        "id": "4I_C_W2N_lye"
      },
      "source": [
        "### Print left view of a Binary Tree\n",
        "Left view of a Binary Tree is set of nodes visible when tree is visited from left side."
      ]
    },
    {
      "cell_type": "markdown",
      "metadata": {
        "id": "mHe5in6HAOoD"
      },
      "source": [
        "Method-1 (Using Recursion)\n",
        "The left view contains all nodes that are first nodes in their levels. A simple solution is to do level order traversal and print the first node in every level."
      ]
    },
    {
      "cell_type": "code",
      "metadata": {
        "id": "yUdproza-Jfj"
      },
      "source": [
        "def left_view(root):\n",
        "    max_level = [0]\n",
        "    left_view_util(root, 1, max_level)\n",
        "\n",
        "\n",
        "def left_view_util(root, level, max_level):\n",
        "    if root is None:\n",
        "        return\n",
        "    if max_level[0] < level:\n",
        "        print(root.value, end=' ')\n",
        "        max_level[0] = level\n",
        "    left_view_util(root.left, level + 1, max_level)\n",
        "    left_view_util(root.right, level + 1, max_level)"
      ],
      "execution_count": 16,
      "outputs": []
    },
    {
      "cell_type": "code",
      "metadata": {
        "colab": {
          "base_uri": "https://localhost:8080/"
        },
        "id": "Qw-oSM6bLr26",
        "outputId": "12764d52-f2ed-4691-80a5-5a491ca5264d"
      },
      "source": [
        "left_view(root)"
      ],
      "execution_count": 17,
      "outputs": [
        {
          "output_type": "stream",
          "name": "stdout",
          "text": [
            "2 7 6 1 "
          ]
        }
      ]
    },
    {
      "cell_type": "markdown",
      "metadata": {
        "id": "pthlPtXDM-27"
      },
      "source": [
        "Method-2 (Using Queue):\n",
        "\n",
        "In this method, level order traversal based solution is discussed. If we observe carefully, we will see that our main task is to print the left most node of every level. So, we will do a level order traversal on the tree and print the leftmost node at every level."
      ]
    },
    {
      "cell_type": "code",
      "metadata": {
        "id": "pjSmCzQ3LvgH"
      },
      "source": [
        "def left_view(root):\n",
        "    if root is None:\n",
        "        return\n",
        "\n",
        "    queue = []\n",
        "    queue.append(root)\n",
        "    while len(queue) > 0:\n",
        "        n = len(queue)\n",
        "        for i in range(1, n + 1):\n",
        "            temp = queue[0]\n",
        "            queue.pop(0)\n",
        "            if i == 1:\n",
        "                print(temp.value, end=' ')\n",
        "            if temp.left is not None:\n",
        "                queue.append(temp.left)\n",
        "            if temp.right is not None:\n",
        "                queue.append(temp.right)"
      ],
      "execution_count": 18,
      "outputs": []
    },
    {
      "cell_type": "code",
      "metadata": {
        "colab": {
          "base_uri": "https://localhost:8080/"
        },
        "id": "t-fXMuXYOHMW",
        "outputId": "b1f348d9-4995-4e8f-b6ee-3127955730b0"
      },
      "source": [
        "left_view(root)"
      ],
      "execution_count": 19,
      "outputs": [
        {
          "output_type": "stream",
          "name": "stdout",
          "text": [
            "2 7 6 1 "
          ]
        }
      ]
    },
    {
      "cell_type": "code",
      "metadata": {
        "colab": {
          "base_uri": "https://localhost:8080/"
        },
        "id": "AOTVXf5bOJNY",
        "outputId": "a1050279-6730-4b45-9a50-adf3cf7beeb6"
      },
      "source": [
        "root1 = Node(10)\n",
        "root1.left = Node(2)\n",
        "root1.right = Node(3)\n",
        "root1.left.left = Node(7)\n",
        "root1.left.right = Node(8)\n",
        "root1.right.right = Node(15)\n",
        "root1.right.left = Node(12)\n",
        "root1.right.right.left = Node(14)\n",
        "left_view(root1)"
      ],
      "execution_count": 20,
      "outputs": [
        {
          "output_type": "stream",
          "name": "stdout",
          "text": [
            "10 2 7 14 "
          ]
        }
      ]
    },
    {
      "cell_type": "markdown",
      "metadata": {
        "id": "m2CHrI6gOq9z"
      },
      "source": [
        "### Diameter of a Tree\n",
        "The diameter of a tree (sometimes called the width) is the number of nodes on the longest path between two end nodes.\n",
        "![image](https://media.geeksforgeeks.org/wp-content/uploads/Diameter-of-Binary-Tree.png)\n",
        "\n",
        "The diameter of a tree T is the largest of the following quantities:\n",
        "\n",
        "*    the diameter of T’s left subtree.\n",
        "*    the diameter of T’s right subtree.\n",
        "*    the longest path between leaves that goes through the root of T (this can be computed from the heights of the subtrees of T)"
      ]
    },
    {
      "cell_type": "code",
      "metadata": {
        "id": "UjYQdnNfaO2g"
      },
      "source": [
        "def height(node):\n",
        "    if node is None:\n",
        "        return 0\n",
        "    return 1 + max(height(node.left), height(node.right))\n",
        "\n",
        "\n",
        "def diameter(root):\n",
        "    if root is None:\n",
        "        return 0\n",
        "\n",
        "    lheight = height(root.left)\n",
        "    rheight = height(root.right)\n",
        "\n",
        "    ldiameter = diameter(root.left)\n",
        "    rdiameter = diameter(root.right)\n",
        "\n",
        "    return max(lheight+rheight+1, max(ldiameter, rdiameter))"
      ],
      "execution_count": 21,
      "outputs": []
    },
    {
      "cell_type": "code",
      "metadata": {
        "colab": {
          "base_uri": "https://localhost:8080/"
        },
        "id": "djnNa-q4bHzx",
        "outputId": "890cf701-d978-49f3-bbb0-edc923f1fbac"
      },
      "source": [
        "print(diameter(root))"
      ],
      "execution_count": 22,
      "outputs": [
        {
          "output_type": "stream",
          "name": "stdout",
          "text": [
            "7\n"
          ]
        }
      ]
    },
    {
      "cell_type": "markdown",
      "metadata": {
        "id": "LMl4SVhfbXl1"
      },
      "source": [
        "**Time Complexity: O(n2)**\n",
        "\n",
        "The above implementation can be optimized by calculating the height in the same recursion rather than calling a height() separately. This  optimization reduces time complexity to O(n)."
      ]
    },
    {
      "cell_type": "code",
      "metadata": {
        "id": "HurKfCd_bLxy"
      },
      "source": [
        "class Height:\n",
        "    def __init(self):\n",
        "        self.h = 0\n",
        "\n",
        "\n",
        "def diameterOpt(root, height):\n",
        " \n",
        "    # to store height of left and right subtree\n",
        "    lh = Height()\n",
        "    rh = Height()\n",
        " \n",
        "    # base condition- when binary tree is empty\n",
        "    if root is None:\n",
        "        height.h = 0\n",
        "        return 0\n",
        " \n",
        "     \n",
        "    # ldiameter --> diameter of left subtree\n",
        "    # rdiamter  --> diameter of right subtree\n",
        "     \n",
        "    # height of left subtree and right subtree is obtained from lh and rh\n",
        "    # and returned value of function is stored in ldiameter and rdiameter\n",
        "     \n",
        "    ldiameter = diameterOpt(root.left, lh)\n",
        "    rdiameter = diameterOpt(root.right, rh)\n",
        " \n",
        "    # height of tree will be max of left subtree\n",
        "    # height and right subtree height plus1\n",
        " \n",
        "    height.h = max(lh.h, rh.h) + 1\n",
        " \n",
        "    # return maximum of the following\n",
        "    # 1)left diameter\n",
        "    # 2)right diameter\n",
        "    # 3)left height + right height + 1\n",
        "    return max(lh.h + rh.h + 1, max(ldiameter, rdiameter))\n",
        " \n",
        "# function to calculate diameter of binary tree\n",
        "def diameter(root):\n",
        "    height = Height()\n",
        "    return diameterOpt(root, height)"
      ],
      "execution_count": 23,
      "outputs": []
    },
    {
      "cell_type": "code",
      "metadata": {
        "id": "xl_Lit9nedg1",
        "colab": {
          "base_uri": "https://localhost:8080/"
        },
        "outputId": "8b6cddb5-c87e-451c-fe81-96ed0268301e"
      },
      "source": [
        "print(diameter(root))"
      ],
      "execution_count": 24,
      "outputs": [
        {
          "output_type": "stream",
          "name": "stdout",
          "text": [
            "7\n"
          ]
        }
      ]
    },
    {
      "cell_type": "markdown",
      "metadata": {
        "id": "TSpkULVbCrwt"
      },
      "source": [
        "### Inorder Tree Traversal without Recursion\n",
        "Using Stack is the obvious way to traverse tree without recursion. Below is an algorithm for traversing binary tree using stack.\n",
        "\n",
        "1. Create an empty stack S.\n",
        "2. Initialize current node as root\n",
        "3. Push the current node to S and set current = current->left until current is NULL\n",
        "4. If current is NULL and stack is not empty then \n",
        "     \n",
        "     a. Pop the top item from stack.\n",
        "     \n",
        "     b. Print the popped item, set current = popped_item->right \n",
        "     \n",
        "     c. Go to step 3.\n",
        "5. If current is NULL and stack is empty then we are done.\n",
        "\n",
        "> **Time Complexity:** $O(n)$"
      ]
    },
    {
      "cell_type": "code",
      "metadata": {
        "id": "JK_SJFrHCYK1"
      },
      "source": [
        "def in_order(root):\n",
        "    stack = []\n",
        "    current = root\n",
        "    while True:\n",
        "        if current is not None:\n",
        "            stack.append(current)\n",
        "            current = current.left\n",
        "        elif stack:\n",
        "            current = stack.pop()\n",
        "            print(current.value, end=' ')\n",
        "            current = current.right\n",
        "        else: \n",
        "            break\n",
        "    print()"
      ],
      "execution_count": 29,
      "outputs": []
    },
    {
      "cell_type": "code",
      "metadata": {
        "colab": {
          "base_uri": "https://localhost:8080/"
        },
        "id": "8RMrM1seHiEE",
        "outputId": "f2f8effb-15c0-4e99-c880-0fe03d94ff3b"
      },
      "source": [
        "in_order(root)"
      ],
      "execution_count": 30,
      "outputs": [
        {
          "output_type": "stream",
          "name": "stdout",
          "text": [
            "7 1 6 11 2 5 4 9 \n"
          ]
        }
      ]
    },
    {
      "cell_type": "code",
      "metadata": {
        "id": "b4ZUBMk4HkDB"
      },
      "source": [
        ""
      ],
      "execution_count": null,
      "outputs": []
    }
  ]
}