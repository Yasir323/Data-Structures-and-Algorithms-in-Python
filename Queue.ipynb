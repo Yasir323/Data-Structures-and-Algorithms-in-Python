{
  "nbformat": 4,
  "nbformat_minor": 0,
  "metadata": {
    "colab": {
      "name": "Queue.ipynb",
      "provenance": []
    },
    "kernelspec": {
      "name": "python3",
      "display_name": "Python 3"
    },
    "language_info": {
      "name": "python"
    }
  },
  "cells": [
    {
      "cell_type": "markdown",
      "metadata": {
        "id": "cb88lo8zXW-Y"
      },
      "source": [
        "The queue abstract data type is defined by the following structure and operations. A queue is structured, as described above, as an ordered collection of items which are added at one end, called the “rear,” and removed from the other end, called the “front.” Queues maintain a FIFO ordering property. The queue operations are given below."
      ]
    },
    {
      "cell_type": "markdown",
      "metadata": {
        "id": "0Roned56XbiN"
      },
      "source": [
        "1.    `Queue()` creates a new queue that is empty. It needs no parameters and returns an empty queue.\n",
        "\n",
        "2.    `enqueue(item)` adds a new item to the rear of the queue. It needs the item and returns nothing.\n",
        "\n",
        "3.    `dequeue()` removes the front item from the queue. It needs no parameters and returns the item. The queue is modified.\n",
        "\n",
        "4.    `isEmpty()` tests to see whether the queue is empty. It needs no parameters and returns a boolean value.\n",
        "\n",
        "5.    `size()` returns the number of items in the queue. It needs no parameters and returns an integer.\n"
      ]
    },
    {
      "cell_type": "code",
      "metadata": {
        "id": "v3aKA0T-XjqK"
      },
      "source": [
        "class Queue:\n",
        "    def __init__(self, items=[]):\n",
        "        self.items = items\n",
        "\n",
        "    def is_empty(self):\n",
        "        return self.items == []\n",
        "\n",
        "    def enqueue(self, item):\n",
        "        self.items.insert(0,item)\n",
        "\n",
        "    def dequeue(self):\n",
        "        return self.items.pop()\n",
        "\n",
        "    def __len__(self):\n",
        "        return len(self.items)"
      ],
      "execution_count": 2,
      "outputs": []
    },
    {
      "cell_type": "code",
      "metadata": {
        "id": "eVd97rG6ZCeR"
      },
      "source": [
        "queue = Queue()"
      ],
      "execution_count": 3,
      "outputs": []
    },
    {
      "cell_type": "code",
      "metadata": {
        "id": "Vtf2xzZjZwaK"
      },
      "source": [
        "queue.enqueue(4)"
      ],
      "execution_count": 4,
      "outputs": []
    },
    {
      "cell_type": "code",
      "metadata": {
        "id": "yybzirQDZ0bx"
      },
      "source": [
        "queue.enqueue('dog')"
      ],
      "execution_count": 6,
      "outputs": []
    },
    {
      "cell_type": "code",
      "metadata": {
        "id": "rvf9hKVUZ3Eo"
      },
      "source": [
        "queue.enqueue(True)"
      ],
      "execution_count": 7,
      "outputs": []
    },
    {
      "cell_type": "code",
      "metadata": {
        "colab": {
          "base_uri": "https://localhost:8080/"
        },
        "id": "am_JMX6QZ7Cv",
        "outputId": "bd9538ed-976a-4748-95ce-cb8486aad3ef"
      },
      "source": [
        "print(len(queue))"
      ],
      "execution_count": 8,
      "outputs": [
        {
          "output_type": "stream",
          "text": [
            "3\n"
          ],
          "name": "stdout"
        }
      ]
    },
    {
      "cell_type": "code",
      "metadata": {
        "colab": {
          "base_uri": "https://localhost:8080/"
        },
        "id": "lKnKmkUfaBQo",
        "outputId": "7313227d-161a-4587-98a1-9efa32a6a28c"
      },
      "source": [
        "queue.dequeue()"
      ],
      "execution_count": 9,
      "outputs": [
        {
          "output_type": "execute_result",
          "data": {
            "text/plain": [
              "4"
            ]
          },
          "metadata": {
            "tags": []
          },
          "execution_count": 9
        }
      ]
    },
    {
      "cell_type": "code",
      "metadata": {
        "colab": {
          "base_uri": "https://localhost:8080/"
        },
        "id": "l-3qdzvtaGRA",
        "outputId": "a8d616f1-0af5-4bf0-d652-0fc39f59f411"
      },
      "source": [
        "print(len(queue))"
      ],
      "execution_count": 10,
      "outputs": [
        {
          "output_type": "stream",
          "text": [
            "2\n"
          ],
          "name": "stdout"
        }
      ]
    }
  ]
}