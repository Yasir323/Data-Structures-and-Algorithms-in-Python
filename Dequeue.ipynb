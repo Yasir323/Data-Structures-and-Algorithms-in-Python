{
  "nbformat": 4,
  "nbformat_minor": 0,
  "metadata": {
    "colab": {
      "name": "Dequeue.ipynb",
      "provenance": [],
      "collapsed_sections": []
    },
    "kernelspec": {
      "name": "python3",
      "display_name": "Python 3"
    },
    "language_info": {
      "name": "python"
    }
  },
  "cells": [
    {
      "cell_type": "markdown",
      "metadata": {
        "id": "IBmpq2AAn2Ye"
      },
      "source": [
        "A **deque**, also known as a **double-ended queue**, is an ordered collection of items similar to the queue. It has two ends, a front and a rear, and the items remain positioned in the collection. What makes a deque different is the unrestrictive nature of adding and removing items. New items can be added at either the front or the rear. Likewise, existing items can be removed from either end. In a sense, this hybrid linear structure provides all the capabilities of stacks and queues in a single data structure."
      ]
    },
    {
      "cell_type": "markdown",
      "metadata": {
        "id": "NhUqDh_1n_25"
      },
      "source": [
        "<img src=\"https://runestone.academy/runestone/books/published/pythonds/_images/basicdeque.png\">\n",
        "\n",
        "Figure 1: A Deque of Python Data Objects"
      ]
    },
    {
      "cell_type": "markdown",
      "metadata": {
        "id": "ysTM3KqnoIXg"
      },
      "source": [
        "The deque operations are given below.\n",
        "\n",
        "1.   `Deque()` creates a new deque that is empty. It needs no parameters and returns an empty deque.\n",
        "\n",
        "2.    `add_front(item)` adds a new item to the front of the deque. It needs the item and returns nothing.\n",
        "\n",
        "3.    `add_rear(item)` adds a new item to the rear of the deque. It needs the item and returns nothing.\n",
        "\n",
        "4.    `remove_front()` removes the front item from the deque. It needs no parameters and returns the item. The deque is modified.\n",
        "\n",
        "5.    `remove_rear()` removes the rear item from the deque. It needs no parameters and returns the item. The deque is modified.\n",
        "\n",
        "6.    `is_empty()` tests to see whether the deque is empty. It needs no parameters and returns a boolean value.\n",
        "\n",
        "7.    `len()` returns the number of items in the deque. It needs no parameters and returns an integer."
      ]
    },
    {
      "cell_type": "code",
      "metadata": {
        "id": "Sr7Bcmb9pB7n"
      },
      "source": [
        "class Deque:\n",
        "\n",
        "    def __init__(self, items=[]):\n",
        "        self.items = items\n",
        "\n",
        "    def is_empty(self):\n",
        "        return self.items == []\n",
        "\n",
        "    def add_front(self, item):\n",
        "        self.items.append(item)\n",
        "\n",
        "    def add_rear(self, item):\n",
        "        self.items.insert(0,item)\n",
        "\n",
        "    def remove_front(self):\n",
        "        return self.items.pop()\n",
        "\n",
        "    def remove_rear(self):\n",
        "        return self.items.pop(0)\n",
        "\n",
        "    def __len__(self):\n",
        "        return len(self.items)"
      ],
      "execution_count": 1,
      "outputs": []
    }
  ]
}