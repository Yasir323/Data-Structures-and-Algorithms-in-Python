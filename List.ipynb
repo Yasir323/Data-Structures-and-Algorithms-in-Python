{
  "nbformat": 4,
  "nbformat_minor": 0,
  "metadata": {
    "colab": {
      "name": "List.ipynb",
      "provenance": []
    },
    "kernelspec": {
      "name": "python3",
      "display_name": "Python 3"
    },
    "language_info": {
      "name": "python"
    }
  },
  "cells": [
    {
      "cell_type": "markdown",
      "metadata": {
        "id": "JjwUxGkhhp_Q"
      },
      "source": [
        "Let’s look at four different ways we might generate a list of n numbers starting with 0. First we’ll try a for loop and create the list by concatenation, then we’ll use append rather than concatenation. Next, we’ll try creating the list using list comprehension and finally, and perhaps the most obvious way, using the range function wrapped by a call to the list constructor. Listing 3 shows the code for making our list four different ways."
      ]
    },
    {
      "cell_type": "code",
      "metadata": {
        "id": "xAv2kFKehzvM"
      },
      "source": [
        "def test1():\n",
        "    l = []\n",
        "    for i in range(1000):\n",
        "        l = l + [i]\n",
        "\n",
        "def test2():\n",
        "    l = []\n",
        "    for i in range(1000):\n",
        "        l.append(i)\n",
        "\n",
        "def test3():\n",
        "    l = [i for i in range(1000)]\n",
        "\n",
        "def test4():\n",
        "    l = list(range(1000))\n",
        "\n",
        "def test5():\n",
        "  l = [*range(1000)]"
      ],
      "execution_count": 1,
      "outputs": []
    },
    {
      "cell_type": "markdown",
      "metadata": {
        "id": "X8T92Z4Dh-sA"
      },
      "source": [
        "To use `timeit` you create a `Timer` object whose parameters are two Python statements. The first parameter is a Python statement that you want to time; the second parameter is a statement that will run once to set up the test. The `timeit` module will then time how long it takes to execute the statement some number of times. By default `timeit` will try to run the statement one million times. When its done it returns the time as a floating point value representing the total number of seconds. However, since it executes the statement a million times you can read the result as the number of microseconds to execute the test one time. You can also pass `timeit` a named parameter called `number` that allows you to specify how many times the test statement is executed. The following session shows how long it takes to run each of our test functions 1000 times."
      ]
    },
    {
      "cell_type": "code",
      "metadata": {
        "id": "jbsGv97qjP9E"
      },
      "source": [
        "from timeit import Timer"
      ],
      "execution_count": 5,
      "outputs": []
    },
    {
      "cell_type": "code",
      "metadata": {
        "colab": {
          "base_uri": "https://localhost:8080/"
        },
        "id": "33iv5yzAixyU",
        "outputId": "60d235ee-abf3-44e6-eba5-e6016894f546"
      },
      "source": [
        "t1 = Timer(\"test1()\", \"from __main__ import test1\")\n",
        "print(\"concat \",t1.timeit(number=1000), \"milliseconds\")\n",
        "t2 = Timer(\"test2()\", \"from __main__ import test2\")\n",
        "print(\"append \",t2.timeit(number=1000), \"milliseconds\")\n",
        "t3 = Timer(\"test3()\", \"from __main__ import test3\")\n",
        "print(\"comprehension \",t3.timeit(number=1000), \"milliseconds\")\n",
        "t4 = Timer(\"test4()\", \"from __main__ import test4\")\n",
        "print(\"list range \",t4.timeit(number=1000), \"milliseconds\")\n",
        "t5 = Timer(\"test5()\", \"from __main__ import test5\")\n",
        "print(\"list range unpack \",t5.timeit(number=1000), \"milliseconds\")"
      ],
      "execution_count": 6,
      "outputs": [
        {
          "output_type": "stream",
          "text": [
            "concat  1.139443009000047 milliseconds\n",
            "append  0.07849597599999925 milliseconds\n",
            "comprehension  0.03884914000002482 milliseconds\n",
            "list range  0.015394097000012152 milliseconds\n",
            "list range unpack  0.01388794499996493 milliseconds\n"
          ],
          "name": "stdout"
        }
      ]
    },
    {
      "cell_type": "markdown",
      "metadata": {
        "id": "l_7iZIr6jC5l"
      },
      "source": [
        "Now that we have seen how performance can be measured concretely you can look at Table 2 to see the Big-O efficiency of all the basic list operations. After thinking carefully about Table 2, you may be wondering about the two different times for pop. When pop is called on the end of the list it takes O(1) but when pop is called on the first element in the list or anywhere in the middle it is O(n). The reason for this lies in how Python chooses to implement lists. When an item is taken from the front of the list, in Python’s implementation, all the other elements in the list are shifted one position closer to the beginning. This may seem silly to you now, but if you look at Table 2 you will see that this implementation also allows the index operation to be O(1). This is a tradeoff that the Python implementors thought was a good one."
      ]
    },
    {
      "cell_type": "markdown",
      "metadata": {
        "id": "1J_D7dN7kNK_"
      },
      "source": [
        "## Pop"
      ]
    },
    {
      "cell_type": "code",
      "metadata": {
        "id": "CykG8gMFk1Co"
      },
      "source": [
        "popzero = Timer(\"x.pop(0)\",\n",
        "                       \"from __main__ import x\")\n",
        "popend = Timer(\"x.pop()\",\n",
        "                      \"from __main__ import x\")"
      ],
      "execution_count": 7,
      "outputs": []
    },
    {
      "cell_type": "code",
      "metadata": {
        "colab": {
          "base_uri": "https://localhost:8080/"
        },
        "id": "OSdCEvEOlByC",
        "outputId": "6bf07e43-1259-4f49-cc34-27a2f65ca71e"
      },
      "source": [
        "x = list(range(2000000))\n",
        "print(\"Pop first element: \", popzero.timeit(number=1000), \"ms\")\n",
        "\n",
        "x = list(range(2000000))\n",
        "print(\"Pop last element: \", popend.timeit(number=1000), \"ms\")"
      ],
      "execution_count": 9,
      "outputs": [
        {
          "output_type": "stream",
          "text": [
            "Pop first element:  1.315367613000035 ms\n",
            "Pop last element:  0.00011105899989161117 ms\n"
          ],
          "name": "stdout"
        }
      ]
    },
    {
      "cell_type": "markdown",
      "metadata": {
        "id": "5bYdgeLllbc5"
      },
      "source": [
        "While our first test does show that pop(0) is indeed slower than pop(), it does not validate the claim that pop(0) is O(n) while pop() is O(1). To validate that claim we need to look at the performance of both calls over a range of list sizes. Listing 5 implements this test."
      ]
    },
    {
      "cell_type": "code",
      "metadata": {
        "colab": {
          "base_uri": "https://localhost:8080/"
        },
        "id": "rFqrgzQ-lxkD",
        "outputId": "82c1af74-f77b-4efb-f0ca-7d6a9d29d59f"
      },
      "source": [
        "popzero = Timer(\"x.pop(0)\",\n",
        "                \"from __main__ import x\")\n",
        "popend = Timer(\"x.pop()\",\n",
        "               \"from __main__ import x\")\n",
        "print(\"pop(0)   pop()\")\n",
        "for i in range(1000000,10000001,1000000):\n",
        "    x = list(range(i))\n",
        "    pt = popend.timeit(number=1000)\n",
        "    x = list(range(i))\n",
        "    pz = popzero.timeit(number=1000)\n",
        "    print(\"%15.5f, %15.5f\" %(pz,pt))"
      ],
      "execution_count": 11,
      "outputs": [
        {
          "output_type": "stream",
          "text": [
            "pop(0)   pop()\n",
            "        0.42260,         0.00008\n",
            "        1.25117,         0.00010\n",
            "        2.27049,         0.00009\n",
            "        3.07847,         0.00009\n",
            "        3.94350,         0.00011\n",
            "        4.68513,         0.00009\n",
            "        5.63923,         0.00009\n",
            "        6.41976,         0.00009\n",
            "        7.05878,         0.00016\n",
            "        8.03770,         0.00009\n"
          ],
          "name": "stdout"
        }
      ]
    },
    {
      "cell_type": "markdown",
      "metadata": {
        "id": "WxNsDGGXl2lb"
      },
      "source": [
        "You can see that as the list gets longer and longer the time it takes to pop(0) also increases while the time for pop stays very flat. This is exactly what we would expect to see for a O(n) and O(1) algorithm."
      ]
    },
    {
      "cell_type": "markdown",
      "metadata": {
        "id": "hCwutfFXmYxA"
      },
      "source": [
        "<img src=\"https://runestone.academy/runestone/books/published/pythonds/_images/poptime.png\">"
      ]
    }
  ]
}